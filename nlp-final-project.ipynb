{
 "cells": [
  {
   "cell_type": "code",
   "execution_count": 2,
   "metadata": {
    "execution": {
     "iopub.execute_input": "2025-01-02T22:10:15.309490Z",
     "iopub.status.busy": "2025-01-02T22:10:15.309189Z",
     "iopub.status.idle": "2025-01-02T22:10:17.545873Z",
     "shell.execute_reply": "2025-01-02T22:10:17.545168Z",
     "shell.execute_reply.started": "2025-01-02T22:10:15.309468Z"
    },
    "trusted": true
   },
   "outputs": [],
   "source": [
    "# import nltk\n",
    "# import subprocess\n",
    "\n",
    "# # Download and unzip wordnet\n",
    "# try:\n",
    "#     nltk.data.find('wordnet.zip')\n",
    "# except:\n",
    "#     nltk.download('wordnet', download_dir='/kaggle/working/')\n",
    "#     command = \"unzip /kaggle/working/corpora/wordnet.zip -d /kaggle/working/corpora\"\n",
    "#     subprocess.run(command.split())\n",
    "#     nltk.data.path.append('/kaggle/working/')\n",
    "\n",
    "# # Now you can import the NLTK resources as usual\n",
    "# from nltk.corpus import wordnet"
   ]
  },
  {
   "cell_type": "code",
   "execution_count": 3,
   "metadata": {
    "execution": {
     "iopub.execute_input": "2025-01-02T22:10:20.460621Z",
     "iopub.status.busy": "2025-01-02T22:10:20.459989Z",
     "iopub.status.idle": "2025-01-02T22:10:20.537236Z",
     "shell.execute_reply": "2025-01-02T22:10:20.536574Z",
     "shell.execute_reply.started": "2025-01-02T22:10:20.460576Z"
    },
    "trusted": true
   },
   "outputs": [
    {
     "name": "stdout",
     "output_type": "stream",
     "text": [
      "GPU found\n"
     ]
    }
   ],
   "source": [
    "# import nltk\n",
    "# # nltk.download('stopwords')\n",
    "# # nltk.download('wordnet')\n",
    "import tensorflow as tf\n",
    "physical_devices = tf.config.experimental.list_physical_devices('GPU')\n",
    "if len(physical_devices) > 0:\n",
    "    print(\"GPU found\")\n",
    "    tf.config.experimental.set_memory_growth(physical_devices[0], True)\n",
    "else:\n",
    "    print(\"Sorry, no GPU found\")"
   ]
  },
  {
   "cell_type": "code",
   "execution_count": 4,
   "metadata": {
    "execution": {
     "iopub.execute_input": "2025-01-03T00:04:17.834136Z",
     "iopub.status.busy": "2025-01-03T00:04:17.833816Z",
     "iopub.status.idle": "2025-01-03T00:04:17.840745Z",
     "shell.execute_reply": "2025-01-03T00:04:17.839903Z",
     "shell.execute_reply.started": "2025-01-03T00:04:17.834082Z"
    },
    "id": "9P86PKqcaOqL",
    "trusted": true
   },
   "outputs": [],
   "source": [
    "from tensorflow.keras.preprocessing.text import Tokenizer\n",
    "from tensorflow.keras.preprocessing.sequence import pad_sequences\n",
    "from tensorflow.keras.models import Sequential\n",
    "from tensorflow.keras.layers import Dense,Flatten,Embedding,Activation,Dropout,SpatialDropout1D,Bidirectional,LSTM\n",
    "from tensorflow.keras.layers import Conv1D,MaxPooling1D,GlobalAveragePooling1D,GlobalMaxPooling1D\n",
    "from tensorflow.keras import optimizers\n",
    "from tensorflow.keras.regularizers import l2\n",
    "from tensorflow.keras import models, layers\n",
    "import seaborn as sns\n",
    "from sklearn.metrics import confusion_matrix\n",
    "from keras.optimizers import Adam\n",
    "import pickle as pkl\n",
    "import numpy as np\n",
    "import pandas as pd\n",
    "from sklearn.model_selection import train_test_split\n",
    "import nltk\n",
    "from nltk.corpus import stopwords\n",
    "import re\n",
    "from string import punctuation\n",
    "from nltk.stem import WordNetLemmatizer, SnowballStemmer, PorterStemmer\n",
    "import matplotlib.pyplot as plt\n",
    "from nltk.tag import pos_tag"
   ]
  },
  {
   "cell_type": "markdown",
   "metadata": {
    "id": "_qa2aoVFaOqM"
   },
   "source": [
    "# **Retrieving Dataset**"
   ]
  },
  {
   "cell_type": "markdown",
   "metadata": {},
   "source": [
    "### Training Dataframe"
   ]
  },
  {
   "cell_type": "code",
   "execution_count": 5,
   "metadata": {
    "colab": {
     "base_uri": "https://localhost:8080/",
     "height": 143
    },
    "execution": {
     "iopub.execute_input": "2025-01-02T22:10:29.116810Z",
     "iopub.status.busy": "2025-01-02T22:10:29.116376Z",
     "iopub.status.idle": "2025-01-02T22:10:29.412984Z",
     "shell.execute_reply": "2025-01-02T22:10:29.412191Z",
     "shell.execute_reply.started": "2025-01-02T22:10:29.116789Z"
    },
    "id": "TM3vvc_HaOqO",
    "outputId": "0cf7aae8-376b-4380-a01e-0def3c387a6f",
    "trusted": true
   },
   "outputs": [
    {
     "data": {
      "text/html": [
       "<div>\n",
       "<style scoped>\n",
       "    .dataframe tbody tr th:only-of-type {\n",
       "        vertical-align: middle;\n",
       "    }\n",
       "\n",
       "    .dataframe tbody tr th {\n",
       "        vertical-align: top;\n",
       "    }\n",
       "\n",
       "    .dataframe thead th {\n",
       "        text-align: right;\n",
       "    }\n",
       "</style>\n",
       "<table border=\"1\" class=\"dataframe\">\n",
       "  <thead>\n",
       "    <tr style=\"text-align: right;\">\n",
       "      <th></th>\n",
       "      <th>2401</th>\n",
       "      <th>Borderlands</th>\n",
       "      <th>Positive</th>\n",
       "      <th>im getting on borderlands and i will murder you all ,</th>\n",
       "    </tr>\n",
       "  </thead>\n",
       "  <tbody>\n",
       "    <tr>\n",
       "      <th>0</th>\n",
       "      <td>2401</td>\n",
       "      <td>Borderlands</td>\n",
       "      <td>Positive</td>\n",
       "      <td>I am coming to the borders and I will kill you...</td>\n",
       "    </tr>\n",
       "    <tr>\n",
       "      <th>1</th>\n",
       "      <td>2401</td>\n",
       "      <td>Borderlands</td>\n",
       "      <td>Positive</td>\n",
       "      <td>im getting on borderlands and i will kill you ...</td>\n",
       "    </tr>\n",
       "    <tr>\n",
       "      <th>2</th>\n",
       "      <td>2401</td>\n",
       "      <td>Borderlands</td>\n",
       "      <td>Positive</td>\n",
       "      <td>im coming on borderlands and i will murder you...</td>\n",
       "    </tr>\n",
       "  </tbody>\n",
       "</table>\n",
       "</div>"
      ],
      "text/plain": [
       "   2401  Borderlands  Positive  \\\n",
       "0  2401  Borderlands  Positive   \n",
       "1  2401  Borderlands  Positive   \n",
       "2  2401  Borderlands  Positive   \n",
       "\n",
       "  im getting on borderlands and i will murder you all ,  \n",
       "0  I am coming to the borders and I will kill you...     \n",
       "1  im getting on borderlands and i will kill you ...     \n",
       "2  im coming on borderlands and i will murder you...     "
      ]
     },
     "execution_count": 5,
     "metadata": {},
     "output_type": "execute_result"
    }
   ],
   "source": [
    "# https://www.kaggle.com/datasets/jp797498e/twitter-entity-sentiment-analysis\n",
    "df = pd.read_csv('twitter_training.csv')\n",
    "df.head(3)"
   ]
  },
  {
   "cell_type": "markdown",
   "metadata": {},
   "source": [
    "Testing Dataframe"
   ]
  },
  {
   "cell_type": "code",
   "execution_count": 6,
   "metadata": {
    "execution": {
     "iopub.execute_input": "2025-01-02T22:10:29.414738Z",
     "iopub.status.busy": "2025-01-02T22:10:29.414487Z",
     "iopub.status.idle": "2025-01-02T22:10:29.431908Z",
     "shell.execute_reply": "2025-01-02T22:10:29.431273Z",
     "shell.execute_reply.started": "2025-01-02T22:10:29.414717Z"
    },
    "trusted": true
   },
   "outputs": [
    {
     "data": {
      "text/html": [
       "<div>\n",
       "<style scoped>\n",
       "    .dataframe tbody tr th:only-of-type {\n",
       "        vertical-align: middle;\n",
       "    }\n",
       "\n",
       "    .dataframe tbody tr th {\n",
       "        vertical-align: top;\n",
       "    }\n",
       "\n",
       "    .dataframe thead th {\n",
       "        text-align: right;\n",
       "    }\n",
       "</style>\n",
       "<table border=\"1\" class=\"dataframe\">\n",
       "  <thead>\n",
       "    <tr style=\"text-align: right;\">\n",
       "      <th></th>\n",
       "      <th>2401</th>\n",
       "      <th>Borderlands</th>\n",
       "      <th>Positive</th>\n",
       "      <th>im getting on borderlands and i will murder you all ,</th>\n",
       "    </tr>\n",
       "  </thead>\n",
       "  <tbody>\n",
       "    <tr>\n",
       "      <th>0</th>\n",
       "      <td>2401</td>\n",
       "      <td>Borderlands</td>\n",
       "      <td>Positive</td>\n",
       "      <td>I am coming to the borders and I will kill you...</td>\n",
       "    </tr>\n",
       "    <tr>\n",
       "      <th>1</th>\n",
       "      <td>2401</td>\n",
       "      <td>Borderlands</td>\n",
       "      <td>Positive</td>\n",
       "      <td>im getting on borderlands and i will kill you ...</td>\n",
       "    </tr>\n",
       "    <tr>\n",
       "      <th>2</th>\n",
       "      <td>2401</td>\n",
       "      <td>Borderlands</td>\n",
       "      <td>Positive</td>\n",
       "      <td>im coming on borderlands and i will murder you...</td>\n",
       "    </tr>\n",
       "  </tbody>\n",
       "</table>\n",
       "</div>"
      ],
      "text/plain": [
       "   2401  Borderlands  Positive  \\\n",
       "0  2401  Borderlands  Positive   \n",
       "1  2401  Borderlands  Positive   \n",
       "2  2401  Borderlands  Positive   \n",
       "\n",
       "  im getting on borderlands and i will murder you all ,  \n",
       "0  I am coming to the borders and I will kill you...     \n",
       "1  im getting on borderlands and i will kill you ...     \n",
       "2  im coming on borderlands and i will murder you...     "
      ]
     },
     "execution_count": 6,
     "metadata": {},
     "output_type": "execute_result"
    }
   ],
   "source": [
    "df_validation = pd.read_csv('twitter_validation.csv')\n",
    "df.head(3)"
   ]
  },
  {
   "cell_type": "markdown",
   "metadata": {
    "id": "6gn50b3gaOqO"
   },
   "source": [
    "There is an issue with the dataset, there are no column names. So, we will add the column names manually."
   ]
  },
  {
   "cell_type": "code",
   "execution_count": 7,
   "metadata": {
    "execution": {
     "iopub.execute_input": "2025-01-02T22:10:29.433217Z",
     "iopub.status.busy": "2025-01-02T22:10:29.432943Z",
     "iopub.status.idle": "2025-01-02T22:10:29.437880Z",
     "shell.execute_reply": "2025-01-02T22:10:29.437053Z",
     "shell.execute_reply.started": "2025-01-02T22:10:29.433196Z"
    },
    "trusted": true
   },
   "outputs": [
    {
     "name": "stdout",
     "output_type": "stream",
     "text": [
      "(74681, 4)\n",
      "(999, 4)\n"
     ]
    }
   ],
   "source": [
    "print(df.shape)\n",
    "print(df_validation.shape)"
   ]
  },
  {
   "cell_type": "code",
   "execution_count": 8,
   "metadata": {
    "colab": {
     "base_uri": "https://localhost:8080/",
     "height": 143
    },
    "execution": {
     "iopub.execute_input": "2025-01-02T22:10:29.439021Z",
     "iopub.status.busy": "2025-01-02T22:10:29.438745Z",
     "iopub.status.idle": "2025-01-02T22:10:29.453734Z",
     "shell.execute_reply": "2025-01-02T22:10:29.453036Z",
     "shell.execute_reply.started": "2025-01-02T22:10:29.438993Z"
    },
    "id": "zGRJJvmNaOqP",
    "outputId": "d04728f2-f6d8-4987-9315-54a4d2fbfca7",
    "trusted": true
   },
   "outputs": [
    {
     "data": {
      "text/html": [
       "<div>\n",
       "<style scoped>\n",
       "    .dataframe tbody tr th:only-of-type {\n",
       "        vertical-align: middle;\n",
       "    }\n",
       "\n",
       "    .dataframe tbody tr th {\n",
       "        vertical-align: top;\n",
       "    }\n",
       "\n",
       "    .dataframe thead th {\n",
       "        text-align: right;\n",
       "    }\n",
       "</style>\n",
       "<table border=\"1\" class=\"dataframe\">\n",
       "  <thead>\n",
       "    <tr style=\"text-align: right;\">\n",
       "      <th></th>\n",
       "      <th>id</th>\n",
       "      <th>entity</th>\n",
       "      <th>sentiment</th>\n",
       "      <th>tweet</th>\n",
       "    </tr>\n",
       "  </thead>\n",
       "  <tbody>\n",
       "    <tr>\n",
       "      <th>0</th>\n",
       "      <td>2401</td>\n",
       "      <td>Borderlands</td>\n",
       "      <td>Positive</td>\n",
       "      <td>I am coming to the borders and I will kill you...</td>\n",
       "    </tr>\n",
       "    <tr>\n",
       "      <th>1</th>\n",
       "      <td>2401</td>\n",
       "      <td>Borderlands</td>\n",
       "      <td>Positive</td>\n",
       "      <td>im getting on borderlands and i will kill you ...</td>\n",
       "    </tr>\n",
       "    <tr>\n",
       "      <th>2</th>\n",
       "      <td>2401</td>\n",
       "      <td>Borderlands</td>\n",
       "      <td>Positive</td>\n",
       "      <td>im coming on borderlands and i will murder you...</td>\n",
       "    </tr>\n",
       "  </tbody>\n",
       "</table>\n",
       "</div>"
      ],
      "text/plain": [
       "     id       entity sentiment  \\\n",
       "0  2401  Borderlands  Positive   \n",
       "1  2401  Borderlands  Positive   \n",
       "2  2401  Borderlands  Positive   \n",
       "\n",
       "                                               tweet  \n",
       "0  I am coming to the borders and I will kill you...  \n",
       "1  im getting on borderlands and i will kill you ...  \n",
       "2  im coming on borderlands and i will murder you...  "
      ]
     },
     "execution_count": 8,
     "metadata": {},
     "output_type": "execute_result"
    }
   ],
   "source": [
    "# Add column names (Tweet_id, entity, sentiment, tweet)\n",
    "df.columns = ['id', 'entity', 'sentiment', 'tweet']\n",
    "df_validation.columns = ['id', 'entity', 'sentiment', 'tweet']\n",
    "df.head(3)"
   ]
  },
  {
   "cell_type": "markdown",
   "metadata": {},
   "source": [
    "# **Data Preprocessing**"
   ]
  },
  {
   "cell_type": "markdown",
   "metadata": {
    "id": "f0WqInE0aOqP"
   },
   "source": [
    "### Perform missing values/duplicated data checking and cleaning"
   ]
  },
  {
   "cell_type": "code",
   "execution_count": 9,
   "metadata": {
    "execution": {
     "iopub.execute_input": "2025-01-02T22:10:29.454909Z",
     "iopub.status.busy": "2025-01-02T22:10:29.454589Z",
     "iopub.status.idle": "2025-01-02T22:10:29.517772Z",
     "shell.execute_reply": "2025-01-02T22:10:29.516931Z",
     "shell.execute_reply.started": "2025-01-02T22:10:29.454877Z"
    },
    "trusted": true
   },
   "outputs": [
    {
     "name": "stdout",
     "output_type": "stream",
     "text": [
      "id             0\n",
      "entity         0\n",
      "sentiment      0\n",
      "tweet        686\n",
      "dtype: int64\n",
      "Duplicated Data: 2700\n"
     ]
    }
   ],
   "source": [
    "print(df.isna().sum())\n",
    "print(\"Duplicated Data:\",df.duplicated().sum())"
   ]
  },
  {
   "cell_type": "code",
   "execution_count": 10,
   "metadata": {
    "execution": {
     "iopub.execute_input": "2025-01-02T22:10:29.518835Z",
     "iopub.status.busy": "2025-01-02T22:10:29.518615Z",
     "iopub.status.idle": "2025-01-02T22:10:29.625276Z",
     "shell.execute_reply": "2025-01-02T22:10:29.624207Z",
     "shell.execute_reply.started": "2025-01-02T22:10:29.518816Z"
    },
    "trusted": true
   },
   "outputs": [
    {
     "name": "stdout",
     "output_type": "stream",
     "text": [
      "id           0\n",
      "entity       0\n",
      "sentiment    0\n",
      "tweet        0\n",
      "dtype: int64\n",
      "Duplicated Data: 0\n"
     ]
    }
   ],
   "source": [
    "df = df.dropna()\n",
    "df = df.drop_duplicates()\n",
    "print(df.isna().sum())\n",
    "print(\"Duplicated Data:\",df.duplicated().sum())"
   ]
  },
  {
   "cell_type": "code",
   "execution_count": 11,
   "metadata": {
    "colab": {
     "base_uri": "https://localhost:8080/",
     "height": 210
    },
    "execution": {
     "iopub.execute_input": "2025-01-02T22:10:29.627552Z",
     "iopub.status.busy": "2025-01-02T22:10:29.627331Z",
     "iopub.status.idle": "2025-01-02T22:10:29.639508Z",
     "shell.execute_reply": "2025-01-02T22:10:29.638722Z",
     "shell.execute_reply.started": "2025-01-02T22:10:29.627533Z"
    },
    "id": "J5I-WE8SaOqQ",
    "outputId": "27910bb1-faa2-4e0b-9ce4-ba8d95d04f80",
    "trusted": true
   },
   "outputs": [
    {
     "data": {
      "text/plain": [
       "sentiment\n",
       "Negative      21698\n",
       "Positive      19712\n",
       "Neutral       17708\n",
       "Irrelevant    12537\n",
       "Name: count, dtype: int64"
      ]
     },
     "execution_count": 11,
     "metadata": {},
     "output_type": "execute_result"
    }
   ],
   "source": [
    "# Mapping\n",
    "df['sentiment'].value_counts()"
   ]
  },
  {
   "cell_type": "markdown",
   "metadata": {
    "id": "RC91mKYzaOqQ"
   },
   "source": [
    "The dataset is considered balanced"
   ]
  },
  {
   "cell_type": "markdown",
   "metadata": {
    "id": "XggqvInxaOqR"
   },
   "source": [
    "# **Text Preprocessing**"
   ]
  },
  {
   "cell_type": "code",
   "execution_count": 12,
   "metadata": {
    "execution": {
     "iopub.execute_input": "2025-01-02T22:10:38.794808Z",
     "iopub.status.busy": "2025-01-02T22:10:38.794501Z",
     "iopub.status.idle": "2025-01-02T22:10:41.207812Z",
     "shell.execute_reply": "2025-01-02T22:10:41.206908Z",
     "shell.execute_reply.started": "2025-01-02T22:10:38.794784Z"
    },
    "trusted": true
   },
   "outputs": [],
   "source": [
    "def preprocessing(tweet):\n",
    "    # Lowercase\n",
    "    tweet = tweet.lower()\n",
    "    # URL\n",
    "    tweet = re.sub(r'http\\S+|www\\S+|https\\S+', ' ', tweet, flags=re.MULTILINE)\n",
    "    # Emoji\n",
    "    tweet = re.sub(r'[^\\x00-\\x7F]+', ' ', tweet)\n",
    "    # Punctuation\n",
    "    tweet = re.sub(r'[^a-zA-Z0-9\\s]', ' ', tweet)\n",
    "    # Numbers\n",
    "    tweet = re.sub(r'\\d+', ' ', tweet)\n",
    "    # Excess whitespaces\n",
    "    tweet = re.sub(r'\\s+', ' ', tweet).strip()\n",
    "    # Word Normalization\n",
    "    tweet = re.sub(r\"won\\'t\", \"would not\", tweet)\n",
    "    tweet = re.sub(r\"im\", \"i am\", tweet)\n",
    "    tweet = re.sub(r\"Im\", \"i am\", tweet)\n",
    "    tweet = re.sub(r\"can\\'t\", \"can not\", tweet)\n",
    "    tweet = re.sub(r\"don\\'t\", \"do not\", tweet)\n",
    "    tweet = re.sub(r\"shouldn\\'t\", \"should not\", tweet)\n",
    "    tweet = re.sub(r\"needn\\'t\", \"need not\", tweet)\n",
    "    tweet = re.sub(r\"hasn\\'t\", \"has not\", tweet)\n",
    "    tweet = re.sub(r\"haven\\'t\", \"have not\", tweet)\n",
    "    tweet = re.sub(r\"weren\\'t\", \"were not\", tweet)\n",
    "    tweet = re.sub(r\"mightn\\'t\", \"might not\", tweet)\n",
    "    tweet = re.sub(r\"didn\\'t\", \"did not\", tweet)\n",
    "    tweet = re.sub(r\"wasn\\'t\", \"was not\", tweet)\n",
    "    tweet = re.sub(r\"ain\\'t\", \"am not\", tweet)\n",
    "    tweet = re.sub(r\"aren\\'t\", \"are not\", tweet)\n",
    "    tweet = re.sub(r\"\\'bout\", \"about\", tweet)\n",
    "    tweet = re.sub(r\"\\'til\", \"until\", tweet)\n",
    "    tweet = re.sub(r\"\\'till\", \"until\", tweet)\n",
    "    tweet = re.sub(r\"\\'cause\", \"because\", tweet)\n",
    "    tweet = re.sub(r\"\\'em\", \"them\", tweet)\n",
    "    tweet = re.sub(r\"\\'n\", \"and\", tweet)\n",
    "    tweet = re.sub(r\"\\'d've\", \"would have\", tweet)\n",
    "    tweet = re.sub(r\"n\\'t\", \" not\", tweet)\n",
    "    tweet = re.sub(r\"\\'re\", \" are\", tweet)\n",
    "    tweet = re.sub(r\"\\'s\", \" is\", tweet)\n",
    "    tweet = re.sub(r\"\\'d\", \" would\", tweet)\n",
    "    tweet = re.sub(r\"\\'ll\", \" will\", tweet)\n",
    "    tweet = re.sub(r\"\\'t\", \" not\", tweet)\n",
    "    tweet = re.sub(r\"\\'ve\", \" have\", tweet)\n",
    "    tweet = re.sub(r\"\\'m\", \" am\", tweet)\n",
    "    tweet = re.sub(r'unk', ' ', tweet)\n",
    "    return tweet\n",
    "\n",
    "df['tweet'] = df['tweet'].apply(preprocessing)\n",
    "df_validation['tweet'] = df_validation['tweet'].apply(preprocessing)"
   ]
  },
  {
   "cell_type": "code",
   "execution_count": 13,
   "metadata": {
    "execution": {
     "iopub.execute_input": "2025-01-02T22:10:41.209168Z",
     "iopub.status.busy": "2025-01-02T22:10:41.208904Z",
     "iopub.status.idle": "2025-01-02T22:10:41.219794Z",
     "shell.execute_reply": "2025-01-02T22:10:41.219159Z",
     "shell.execute_reply.started": "2025-01-02T22:10:41.209142Z"
    },
    "trusted": true
   },
   "outputs": [
    {
     "data": {
      "text/html": [
       "<div>\n",
       "<style scoped>\n",
       "    .dataframe tbody tr th:only-of-type {\n",
       "        vertical-align: middle;\n",
       "    }\n",
       "\n",
       "    .dataframe tbody tr th {\n",
       "        vertical-align: top;\n",
       "    }\n",
       "\n",
       "    .dataframe thead th {\n",
       "        text-align: right;\n",
       "    }\n",
       "</style>\n",
       "<table border=\"1\" class=\"dataframe\">\n",
       "  <thead>\n",
       "    <tr style=\"text-align: right;\">\n",
       "      <th></th>\n",
       "      <th>id</th>\n",
       "      <th>entity</th>\n",
       "      <th>sentiment</th>\n",
       "      <th>tweet</th>\n",
       "    </tr>\n",
       "  </thead>\n",
       "  <tbody>\n",
       "    <tr>\n",
       "      <th>0</th>\n",
       "      <td>2401</td>\n",
       "      <td>Borderlands</td>\n",
       "      <td>Positive</td>\n",
       "      <td>i am coming to the borders and i will kill you...</td>\n",
       "    </tr>\n",
       "    <tr>\n",
       "      <th>1</th>\n",
       "      <td>2401</td>\n",
       "      <td>Borderlands</td>\n",
       "      <td>Positive</td>\n",
       "      <td>i am getting on borderlands and i will kill yo...</td>\n",
       "    </tr>\n",
       "    <tr>\n",
       "      <th>2</th>\n",
       "      <td>2401</td>\n",
       "      <td>Borderlands</td>\n",
       "      <td>Positive</td>\n",
       "      <td>i am coming on borderlands and i will murder y...</td>\n",
       "    </tr>\n",
       "    <tr>\n",
       "      <th>3</th>\n",
       "      <td>2401</td>\n",
       "      <td>Borderlands</td>\n",
       "      <td>Positive</td>\n",
       "      <td>i am getting on borderlands and i will murder ...</td>\n",
       "    </tr>\n",
       "    <tr>\n",
       "      <th>4</th>\n",
       "      <td>2401</td>\n",
       "      <td>Borderlands</td>\n",
       "      <td>Positive</td>\n",
       "      <td>i am getting into borderlands and i can murder...</td>\n",
       "    </tr>\n",
       "  </tbody>\n",
       "</table>\n",
       "</div>"
      ],
      "text/plain": [
       "     id       entity sentiment  \\\n",
       "0  2401  Borderlands  Positive   \n",
       "1  2401  Borderlands  Positive   \n",
       "2  2401  Borderlands  Positive   \n",
       "3  2401  Borderlands  Positive   \n",
       "4  2401  Borderlands  Positive   \n",
       "\n",
       "                                               tweet  \n",
       "0  i am coming to the borders and i will kill you...  \n",
       "1  i am getting on borderlands and i will kill yo...  \n",
       "2  i am coming on borderlands and i will murder y...  \n",
       "3  i am getting on borderlands and i will murder ...  \n",
       "4  i am getting into borderlands and i can murder...  "
      ]
     },
     "execution_count": 13,
     "metadata": {},
     "output_type": "execute_result"
    }
   ],
   "source": [
    "df.head(5)"
   ]
  },
  {
   "cell_type": "markdown",
   "metadata": {},
   "source": [
    "### Lemmatization"
   ]
  },
  {
   "cell_type": "code",
   "execution_count": 14,
   "metadata": {
    "execution": {
     "iopub.execute_input": "2025-01-02T22:10:41.221445Z",
     "iopub.status.busy": "2025-01-02T22:10:41.221206Z",
     "iopub.status.idle": "2025-01-02T22:10:41.238446Z",
     "shell.execute_reply": "2025-01-02T22:10:41.237700Z",
     "shell.execute_reply.started": "2025-01-02T22:10:41.221426Z"
    },
    "id": "Ryt19EfwaOqS",
    "trusted": true
   },
   "outputs": [],
   "source": [
    "wnl = WordNetLemmatizer()\n",
    "all_stopwords = set(stopwords.words('english'))\n",
    "all_stopwords = [w for w in all_stopwords if w not in ['no','not']]\n",
    "\n",
    "\n",
    "def lemmatizing(tweet):\n",
    "    words = tweet.split()\n",
    "    lemmatized_words = [wnl.lemmatize(word) for word in words if word not in all_stopwords]\n",
    "    return ' '.join(lemmatized_words)"
   ]
  },
  {
   "cell_type": "code",
   "execution_count": 15,
   "metadata": {
    "execution": {
     "iopub.execute_input": "2025-01-02T22:10:41.239738Z",
     "iopub.status.busy": "2025-01-02T22:10:41.239512Z",
     "iopub.status.idle": "2025-01-02T22:10:47.691058Z",
     "shell.execute_reply": "2025-01-02T22:10:47.690142Z",
     "shell.execute_reply.started": "2025-01-02T22:10:41.239719Z"
    },
    "trusted": true
   },
   "outputs": [],
   "source": [
    "df['tweet'] = df['tweet'].apply(lemmatizing)\n",
    "df_validation['tweet'] = df_validation['tweet'].apply(lemmatizing)"
   ]
  },
  {
   "cell_type": "code",
   "execution_count": 16,
   "metadata": {
    "execution": {
     "iopub.execute_input": "2025-01-02T22:10:47.692192Z",
     "iopub.status.busy": "2025-01-02T22:10:47.691926Z",
     "iopub.status.idle": "2025-01-02T22:10:47.702115Z",
     "shell.execute_reply": "2025-01-02T22:10:47.701412Z",
     "shell.execute_reply.started": "2025-01-02T22:10:47.692170Z"
    },
    "trusted": true
   },
   "outputs": [
    {
     "data": {
      "text/html": [
       "<div>\n",
       "<style scoped>\n",
       "    .dataframe tbody tr th:only-of-type {\n",
       "        vertical-align: middle;\n",
       "    }\n",
       "\n",
       "    .dataframe tbody tr th {\n",
       "        vertical-align: top;\n",
       "    }\n",
       "\n",
       "    .dataframe thead th {\n",
       "        text-align: right;\n",
       "    }\n",
       "</style>\n",
       "<table border=\"1\" class=\"dataframe\">\n",
       "  <thead>\n",
       "    <tr style=\"text-align: right;\">\n",
       "      <th></th>\n",
       "      <th>id</th>\n",
       "      <th>entity</th>\n",
       "      <th>sentiment</th>\n",
       "      <th>tweet</th>\n",
       "    </tr>\n",
       "  </thead>\n",
       "  <tbody>\n",
       "    <tr>\n",
       "      <th>0</th>\n",
       "      <td>2401</td>\n",
       "      <td>Borderlands</td>\n",
       "      <td>Positive</td>\n",
       "      <td>coming border kill</td>\n",
       "    </tr>\n",
       "    <tr>\n",
       "      <th>1</th>\n",
       "      <td>2401</td>\n",
       "      <td>Borderlands</td>\n",
       "      <td>Positive</td>\n",
       "      <td>getting borderland kill</td>\n",
       "    </tr>\n",
       "    <tr>\n",
       "      <th>2</th>\n",
       "      <td>2401</td>\n",
       "      <td>Borderlands</td>\n",
       "      <td>Positive</td>\n",
       "      <td>coming borderland murder</td>\n",
       "    </tr>\n",
       "    <tr>\n",
       "      <th>3</th>\n",
       "      <td>2401</td>\n",
       "      <td>Borderlands</td>\n",
       "      <td>Positive</td>\n",
       "      <td>getting borderland murder</td>\n",
       "    </tr>\n",
       "    <tr>\n",
       "      <th>4</th>\n",
       "      <td>2401</td>\n",
       "      <td>Borderlands</td>\n",
       "      <td>Positive</td>\n",
       "      <td>getting borderland murder</td>\n",
       "    </tr>\n",
       "  </tbody>\n",
       "</table>\n",
       "</div>"
      ],
      "text/plain": [
       "     id       entity sentiment                      tweet\n",
       "0  2401  Borderlands  Positive         coming border kill\n",
       "1  2401  Borderlands  Positive    getting borderland kill\n",
       "2  2401  Borderlands  Positive   coming borderland murder\n",
       "3  2401  Borderlands  Positive  getting borderland murder\n",
       "4  2401  Borderlands  Positive  getting borderland murder"
      ]
     },
     "execution_count": 16,
     "metadata": {},
     "output_type": "execute_result"
    }
   ],
   "source": [
    "df.head(5)"
   ]
  },
  {
   "cell_type": "code",
   "execution_count": 17,
   "metadata": {
    "colab": {
     "base_uri": "https://localhost:8080/",
     "height": 143
    },
    "execution": {
     "iopub.execute_input": "2025-01-02T22:10:47.703071Z",
     "iopub.status.busy": "2025-01-02T22:10:47.702819Z",
     "iopub.status.idle": "2025-01-02T22:10:47.725834Z",
     "shell.execute_reply": "2025-01-02T22:10:47.725117Z",
     "shell.execute_reply.started": "2025-01-02T22:10:47.703051Z"
    },
    "id": "Gyjj0CuUaOqS",
    "outputId": "09b1dc60-7d00-48b0-b1ea-9ac3a5784b59",
    "trusted": true
   },
   "outputs": [],
   "source": [
    "# Combine the lists (tweet_list, sentiment_list) into a DataFrame\n",
    "df_training = df[['tweet', 'sentiment']].copy()\n",
    "df_validation = df_validation[['tweet','sentiment']].copy()"
   ]
  },
  {
   "cell_type": "markdown",
   "metadata": {},
   "source": [
    "Encode the sentiment"
   ]
  },
  {
   "cell_type": "code",
   "execution_count": 18,
   "metadata": {
    "execution": {
     "iopub.execute_input": "2025-01-02T22:10:47.727080Z",
     "iopub.status.busy": "2025-01-02T22:10:47.726761Z",
     "iopub.status.idle": "2025-01-02T22:10:47.737407Z",
     "shell.execute_reply": "2025-01-02T22:10:47.736725Z",
     "shell.execute_reply.started": "2025-01-02T22:10:47.727049Z"
    },
    "trusted": true
   },
   "outputs": [],
   "source": [
    "mappings = {\n",
    "    'Negative': 0,\n",
    "    'Neutral': 2,\n",
    "    'Positive': 1\n",
    "}\n",
    "\n",
    "df_training = df_training[df_training['sentiment'] != 'Irrelevant']\n",
    "df_validation = df_validation[df_validation['sentiment'] != 'Irrelevant']\n",
    "\n",
    "df_training['sentiment'] = df_training['sentiment'].map(mappings)\n",
    "df_validation['sentiment'] = df_validation['sentiment'].map(mappings)\n"
   ]
  },
  {
   "cell_type": "code",
   "execution_count": 19,
   "metadata": {
    "execution": {
     "iopub.execute_input": "2025-01-02T22:10:47.739093Z",
     "iopub.status.busy": "2025-01-02T22:10:47.738835Z",
     "iopub.status.idle": "2025-01-02T22:10:47.749639Z",
     "shell.execute_reply": "2025-01-02T22:10:47.748847Z",
     "shell.execute_reply.started": "2025-01-02T22:10:47.739073Z"
    },
    "trusted": true
   },
   "outputs": [],
   "source": [
    "tweet_list_train = df_training['tweet'].values\n",
    "sentiment_list_train = df_training['sentiment'].values\n",
    "tweet_list_val = df_validation['tweet'].values\n",
    "sentiment_list_val = df_validation['sentiment'].values"
   ]
  },
  {
   "cell_type": "markdown",
   "metadata": {},
   "source": [
    "### Fitting Tokenizer"
   ]
  },
  {
   "cell_type": "code",
   "execution_count": 20,
   "metadata": {
    "execution": {
     "iopub.execute_input": "2025-01-02T22:12:16.966776Z",
     "iopub.status.busy": "2025-01-02T22:12:16.966484Z",
     "iopub.status.idle": "2025-01-02T22:12:18.731331Z",
     "shell.execute_reply": "2025-01-02T22:12:18.730581Z",
     "shell.execute_reply.started": "2025-01-02T22:12:16.966753Z"
    },
    "trusted": true
   },
   "outputs": [],
   "source": [
    "tokenizer = Tokenizer()\n",
    "tokenizer.fit_on_texts(tweet_list_train)\n",
    "\n",
    "# Convert text data to sequences of integers\n",
    "train_sequences = tokenizer.texts_to_sequences(tweet_list_train)\n",
    "valid_sequences = tokenizer.texts_to_sequences(tweet_list_val)\n",
    "\n",
    "maxlength = 100 # Maximum length of the sequences after padding\n",
    "\n",
    "X = pad_sequences(train_sequences, maxlen=maxlength)\n",
    "X_valid = pad_sequences(valid_sequences, maxlen=maxlength)"
   ]
  },
  {
   "cell_type": "code",
   "execution_count": 21,
   "metadata": {
    "execution": {
     "iopub.execute_input": "2025-01-02T22:12:21.239986Z",
     "iopub.status.busy": "2025-01-02T22:12:21.239695Z",
     "iopub.status.idle": "2025-01-02T22:12:21.263713Z",
     "shell.execute_reply": "2025-01-02T22:12:21.262984Z",
     "shell.execute_reply.started": "2025-01-02T22:12:21.239964Z"
    },
    "trusted": true
   },
   "outputs": [],
   "source": [
    "# Save the tokenizer file as pkl\n",
    "with open('tokenizer.pkl', 'wb') as file:\n",
    "    pkl.dump(tokenizer, file)"
   ]
  },
  {
   "cell_type": "markdown",
   "metadata": {
    "id": "EDRUufFXaOqS"
   },
   "source": [
    "# **Model Training**"
   ]
  },
  {
   "cell_type": "code",
   "execution_count": 22,
   "metadata": {
    "execution": {
     "iopub.execute_input": "2025-01-02T22:12:28.186478Z",
     "iopub.status.busy": "2025-01-02T22:12:28.186138Z",
     "iopub.status.idle": "2025-01-02T22:12:28.208793Z",
     "shell.execute_reply": "2025-01-02T22:12:28.207889Z",
     "shell.execute_reply.started": "2025-01-02T22:12:28.186452Z"
    },
    "id": "Rv0fQHcKaOqS",
    "trusted": true
   },
   "outputs": [],
   "source": [
    "X_train, X_test, y_train, y_test = train_test_split(X, sentiment_list_train, test_size=0.1, random_state=42)"
   ]
  },
  {
   "cell_type": "code",
   "execution_count": 23,
   "metadata": {
    "colab": {
     "base_uri": "https://localhost:8080/"
    },
    "execution": {
     "iopub.execute_input": "2025-01-02T22:12:31.872312Z",
     "iopub.status.busy": "2025-01-02T22:12:31.871965Z",
     "iopub.status.idle": "2025-01-02T22:12:31.877871Z",
     "shell.execute_reply": "2025-01-02T22:12:31.877150Z",
     "shell.execute_reply.started": "2025-01-02T22:12:31.872283Z"
    },
    "id": "Hh23RCxmbeDR",
    "outputId": "6b2e89ff-09c4-41d7-c356-28e555af7c0e",
    "trusted": true
   },
   "outputs": [
    {
     "name": "stdout",
     "output_type": "stream",
     "text": [
      "(53206, 100)\n",
      "(53206,)\n",
      "(5912, 100)\n",
      "(5912,)\n",
      "(828, 100)\n",
      "(828,)\n"
     ]
    }
   ],
   "source": [
    "print(X_train.shape)\n",
    "print(y_train.shape)\n",
    "print(X_test.shape)\n",
    "print(y_test.shape)\n",
    "print(X_valid.shape)\n",
    "print(sentiment_list_val.shape)"
   ]
  },
  {
   "cell_type": "code",
   "execution_count": 24,
   "metadata": {
    "execution": {
     "iopub.execute_input": "2025-01-02T22:14:34.193683Z",
     "iopub.status.busy": "2025-01-02T22:14:34.193377Z",
     "iopub.status.idle": "2025-01-02T22:14:34.209576Z",
     "shell.execute_reply": "2025-01-02T22:14:34.208720Z",
     "shell.execute_reply.started": "2025-01-02T22:14:34.193659Z"
    },
    "trusted": true
   },
   "outputs": [],
   "source": [
    "X_train = np.array(X_train)\n",
    "X_test = np.array(X_test)\n",
    "X_valid = np.array(X_valid)\n",
    "\n",
    "train_labels = np.array(y_train) \n",
    "test_labels = np.array(y_test)\n",
    "sentiment_list_val = np.array(sentiment_list_val)"
   ]
  },
  {
   "cell_type": "code",
   "execution_count": 25,
   "metadata": {
    "colab": {
     "base_uri": "https://localhost:8080/"
    },
    "execution": {
     "iopub.execute_input": "2025-01-02T22:14:39.538394Z",
     "iopub.status.busy": "2025-01-02T22:14:39.537939Z",
     "iopub.status.idle": "2025-01-02T22:14:39.543901Z",
     "shell.execute_reply": "2025-01-02T22:14:39.543069Z",
     "shell.execute_reply.started": "2025-01-02T22:14:39.538347Z"
    },
    "id": "E4Meo6AzaOqT",
    "outputId": "6432d2ae-f74f-4259-9861-9c429c2d403b",
    "trusted": true
   },
   "outputs": [
    {
     "data": {
      "text/plain": [
       "(53206, 100)"
      ]
     },
     "execution_count": 25,
     "metadata": {},
     "output_type": "execute_result"
    }
   ],
   "source": [
    "X_train.shape"
   ]
  },
  {
   "cell_type": "code",
   "execution_count": 26,
   "metadata": {
    "colab": {
     "base_uri": "https://localhost:8080/"
    },
    "execution": {
     "iopub.execute_input": "2025-01-03T00:10:08.075087Z",
     "iopub.status.busy": "2025-01-03T00:10:08.074805Z",
     "iopub.status.idle": "2025-01-03T00:10:08.113465Z",
     "shell.execute_reply": "2025-01-03T00:10:08.112795Z",
     "shell.execute_reply.started": "2025-01-03T00:10:08.075065Z"
    },
    "id": "E1FRPqqaaOqT",
    "outputId": "4814ed0f-845a-4940-811a-1917e23703f3",
    "trusted": true
   },
   "outputs": [
    {
     "name": "stderr",
     "output_type": "stream",
     "text": [
      "2025-01-03 22:46:00.527341: I external/local_xla/xla/stream_executor/cuda/cuda_executor.cc:887] could not open file to read NUMA node: /sys/bus/pci/devices/0000:01:00.0/numa_node\n",
      "Your kernel may have been built without NUMA support.\n",
      "2025-01-03 22:46:00.527452: I external/local_xla/xla/stream_executor/cuda/cuda_executor.cc:887] could not open file to read NUMA node: /sys/bus/pci/devices/0000:01:00.0/numa_node\n",
      "Your kernel may have been built without NUMA support.\n",
      "2025-01-03 22:46:00.527488: I external/local_xla/xla/stream_executor/cuda/cuda_executor.cc:887] could not open file to read NUMA node: /sys/bus/pci/devices/0000:01:00.0/numa_node\n",
      "Your kernel may have been built without NUMA support.\n",
      "2025-01-03 22:46:00.897855: I external/local_xla/xla/stream_executor/cuda/cuda_executor.cc:887] could not open file to read NUMA node: /sys/bus/pci/devices/0000:01:00.0/numa_node\n",
      "Your kernel may have been built without NUMA support.\n",
      "2025-01-03 22:46:00.898577: I external/local_xla/xla/stream_executor/cuda/cuda_executor.cc:887] could not open file to read NUMA node: /sys/bus/pci/devices/0000:01:00.0/numa_node\n",
      "Your kernel may have been built without NUMA support.\n",
      "2025-01-03 22:46:00.898599: I tensorflow/core/common_runtime/gpu/gpu_device.cc:2022] Could not identify NUMA node of platform GPU id 0, defaulting to 0.  Your kernel may not have been built with NUMA support.\n",
      "2025-01-03 22:46:00.898931: I external/local_xla/xla/stream_executor/cuda/cuda_executor.cc:887] could not open file to read NUMA node: /sys/bus/pci/devices/0000:01:00.0/numa_node\n",
      "Your kernel may have been built without NUMA support.\n",
      "2025-01-03 22:46:00.899417: I tensorflow/core/common_runtime/gpu/gpu_device.cc:1929] Created device /job:localhost/replica:0/task:0/device:GPU:0 with 4057 MB memory:  -> device: 0, name: NVIDIA GeForce RTX 2060, pci bus id: 0000:01:00.0, compute capability: 7.5\n"
     ]
    }
   ],
   "source": [
    "model = models.Sequential([\n",
    "    Embedding(input_dim=10000, output_dim=200),\n",
    "    layers.Bidirectional(layers.LSTM(128, return_sequences=True)),\n",
    "    layers.Bidirectional(layers.LSTM(64)),  # BiLSTM without return_sequences, final output\n",
    "    layers.Dropout(0.3), # Dropout is used to prevent overfitting by randomly setting a fraction rate of input units to 0 at each update during training time, which helps prevent overfitting.\n",
    "    layers.Dense(32, activation='relu'),  # Additional Dense layer with ReLU\n",
    "    layers.Dropout(0.3),  # Regular Dropout after Dense layer\n",
    "    layers.Dense(3, activation='softmax')  # Output layer for 3 classes\n",
    "])\n",
    "\n",
    "opt = Adam(learning_rate = 0.005) # 0.001 0.0025 0,005 0.01\n",
    "\n",
    "model.compile(\n",
    "    optimizer=opt,\n",
    "    loss='sparse_categorical_crossentropy',  # Menggunakan sparse loss karena labelnya integer\n",
    "    metrics=['accuracy']\n",
    ")\n"
   ]
  },
  {
   "cell_type": "code",
   "execution_count": 27,
   "metadata": {
    "execution": {
     "iopub.execute_input": "2025-01-03T00:10:14.342212Z",
     "iopub.status.busy": "2025-01-03T00:10:14.341855Z",
     "iopub.status.idle": "2025-01-03T00:11:53.184783Z",
     "shell.execute_reply": "2025-01-03T00:11:53.184070Z",
     "shell.execute_reply.started": "2025-01-03T00:10:14.342180Z"
    },
    "trusted": true
   },
   "outputs": [
    {
     "name": "stdout",
     "output_type": "stream",
     "text": [
      "Epoch 1/30\n"
     ]
    },
    {
     "name": "stderr",
     "output_type": "stream",
     "text": [
      "2025-01-03 22:46:10.324581: I external/local_xla/xla/stream_executor/cuda/cuda_dnn.cc:454] Loaded cuDNN version 8902\n",
      "Could not load symbol cublasGetSmCountTarget from libcublas.so.11. Error: /home/kevin/anaconda3/envs/tf/lib/libcublas.so.11: undefined symbol: cublasGetSmCountTarget\n",
      "2025-01-03 22:46:11.316035: I external/local_xla/xla/service/service.cc:168] XLA service 0x7f884812bb50 initialized for platform CUDA (this does not guarantee that XLA will be used). Devices:\n",
      "2025-01-03 22:46:11.316089: I external/local_xla/xla/service/service.cc:176]   StreamExecutor device (0): NVIDIA GeForce RTX 2060, Compute Capability 7.5\n",
      "2025-01-03 22:46:11.349483: I tensorflow/compiler/mlir/tensorflow/utils/dump_mlir_util.cc:269] disabling MLIR crash reproducer, set env var `MLIR_CRASH_REPRODUCER_DIRECTORY` to enable.\n",
      "WARNING: All log messages before absl::InitializeLog() is called are written to STDERR\n",
      "I0000 00:00:1735919171.552561  160313 device_compiler.h:186] Compiled cluster using XLA!  This line is logged at most once for the lifetime of the process.\n"
     ]
    },
    {
     "name": "stdout",
     "output_type": "stream",
     "text": [
      "104/104 [==============================] - 27s 168ms/step - loss: 0.6999 - accuracy: 0.7009 - val_loss: 0.3294 - val_accuracy: 0.8829\n",
      "Epoch 2/30\n",
      "104/104 [==============================] - 15s 149ms/step - loss: 0.3366 - accuracy: 0.8729 - val_loss: 0.2509 - val_accuracy: 0.9263\n",
      "Epoch 3/30\n",
      "104/104 [==============================] - 13s 129ms/step - loss: 0.2377 - accuracy: 0.9086 - val_loss: 0.2456 - val_accuracy: 0.9227\n",
      "Epoch 4/30\n",
      "104/104 [==============================] - 12s 116ms/step - loss: 0.1840 - accuracy: 0.9257 - val_loss: 0.2785 - val_accuracy: 0.9263\n",
      "Epoch 5/30\n",
      "104/104 [==============================] - 13s 122ms/step - loss: 0.1498 - accuracy: 0.9378 - val_loss: 0.3279 - val_accuracy: 0.9215\n",
      "Epoch 6/30\n",
      "104/104 [==============================] - 11s 102ms/step - loss: 0.1326 - accuracy: 0.9440 - val_loss: 0.2999 - val_accuracy: 0.9336\n",
      "Epoch 7/30\n",
      "104/104 [==============================] - 10s 93ms/step - loss: 0.1181 - accuracy: 0.9499 - val_loss: 0.3369 - val_accuracy: 0.9312\n",
      "Epoch 8/30\n",
      "104/104 [==============================] - 10s 96ms/step - loss: 0.1034 - accuracy: 0.9536 - val_loss: 0.3484 - val_accuracy: 0.9360\n",
      "Epoch 9/30\n",
      "104/104 [==============================] - 10s 93ms/step - loss: 0.0967 - accuracy: 0.9569 - val_loss: 0.3661 - val_accuracy: 0.9287\n",
      "Epoch 10/30\n",
      "104/104 [==============================] - 9s 91ms/step - loss: 0.0893 - accuracy: 0.9587 - val_loss: 0.3887 - val_accuracy: 0.9348\n",
      "Epoch 11/30\n",
      "104/104 [==============================] - 10s 95ms/step - loss: 0.0856 - accuracy: 0.9602 - val_loss: 0.3726 - val_accuracy: 0.9432\n",
      "Epoch 12/30\n",
      "104/104 [==============================] - 11s 106ms/step - loss: 0.0833 - accuracy: 0.9616 - val_loss: 0.3808 - val_accuracy: 0.9372\n",
      "Epoch 13/30\n",
      "104/104 [==============================] - 11s 104ms/step - loss: 0.0805 - accuracy: 0.9629 - val_loss: 0.3818 - val_accuracy: 0.9396\n",
      "Epoch 14/30\n",
      "104/104 [==============================] - 10s 93ms/step - loss: 0.0787 - accuracy: 0.9645 - val_loss: 0.3750 - val_accuracy: 0.9396\n",
      "Epoch 15/30\n",
      "104/104 [==============================] - 10s 97ms/step - loss: 0.0710 - accuracy: 0.9656 - val_loss: 0.4286 - val_accuracy: 0.9287\n",
      "Epoch 16/30\n",
      "104/104 [==============================] - 10s 94ms/step - loss: 0.0700 - accuracy: 0.9659 - val_loss: 0.4863 - val_accuracy: 0.9336\n",
      "Epoch 17/30\n",
      "104/104 [==============================] - 9s 90ms/step - loss: 0.0694 - accuracy: 0.9668 - val_loss: 0.4341 - val_accuracy: 0.9360\n",
      "Epoch 18/30\n",
      "104/104 [==============================] - 10s 94ms/step - loss: 0.0651 - accuracy: 0.9680 - val_loss: 0.4309 - val_accuracy: 0.9396\n",
      "Epoch 19/30\n",
      "104/104 [==============================] - 10s 94ms/step - loss: 0.0623 - accuracy: 0.9690 - val_loss: 0.5856 - val_accuracy: 0.9251\n",
      "Epoch 20/30\n",
      "104/104 [==============================] - 9s 88ms/step - loss: 0.0669 - accuracy: 0.9675 - val_loss: 0.4654 - val_accuracy: 0.9348\n",
      "Epoch 21/30\n",
      "104/104 [==============================] - 9s 90ms/step - loss: 0.0707 - accuracy: 0.9668 - val_loss: 0.4108 - val_accuracy: 0.9324\n",
      "Epoch 22/30\n",
      "104/104 [==============================] - 9s 91ms/step - loss: 0.0645 - accuracy: 0.9684 - val_loss: 0.4651 - val_accuracy: 0.9312\n",
      "Epoch 23/30\n",
      "104/104 [==============================] - 10s 96ms/step - loss: 0.0601 - accuracy: 0.9697 - val_loss: 0.4995 - val_accuracy: 0.9360\n",
      "Epoch 24/30\n",
      "104/104 [==============================] - 9s 88ms/step - loss: 0.0619 - accuracy: 0.9693 - val_loss: 0.4791 - val_accuracy: 0.9348\n",
      "Epoch 25/30\n",
      "104/104 [==============================] - 9s 88ms/step - loss: 0.0604 - accuracy: 0.9697 - val_loss: 0.4154 - val_accuracy: 0.9360\n",
      "Epoch 26/30\n",
      "104/104 [==============================] - 9s 87ms/step - loss: 0.0590 - accuracy: 0.9705 - val_loss: 0.4781 - val_accuracy: 0.9348\n",
      "Epoch 27/30\n",
      "104/104 [==============================] - 9s 88ms/step - loss: 0.0591 - accuracy: 0.9701 - val_loss: 0.5051 - val_accuracy: 0.9312\n",
      "Epoch 28/30\n",
      "104/104 [==============================] - 9s 89ms/step - loss: 0.0582 - accuracy: 0.9705 - val_loss: 0.5334 - val_accuracy: 0.9300\n",
      "Epoch 29/30\n",
      "104/104 [==============================] - 9s 88ms/step - loss: 0.0569 - accuracy: 0.9708 - val_loss: 0.5006 - val_accuracy: 0.9360\n",
      "Epoch 30/30\n",
      "104/104 [==============================] - 9s 87ms/step - loss: 0.0580 - accuracy: 0.9705 - val_loss: 0.4823 - val_accuracy: 0.9324\n"
     ]
    }
   ],
   "source": [
    "history = model.fit(\n",
    "    X_train, train_labels,\n",
    "    validation_data=(X_valid, sentiment_list_val),\n",
    "    epochs=30,\n",
    "    batch_size=512,\n",
    "    verbose=1\n",
    ")"
   ]
  },
  {
   "cell_type": "code",
   "execution_count": 28,
   "metadata": {
    "execution": {
     "iopub.execute_input": "2025-01-02T23:53:50.423387Z",
     "iopub.status.busy": "2025-01-02T23:53:50.423024Z",
     "iopub.status.idle": "2025-01-02T23:53:50.441738Z",
     "shell.execute_reply": "2025-01-02T23:53:50.441032Z",
     "shell.execute_reply.started": "2025-01-02T23:53:50.423361Z"
    },
    "trusted": true
   },
   "outputs": [
    {
     "name": "stdout",
     "output_type": "stream",
     "text": [
      "Model: \"sequential\"\n",
      "_________________________________________________________________\n",
      " Layer (type)                Output Shape              Param #   \n",
      "=================================================================\n",
      " embedding (Embedding)       (None, None, 200)         2000000   \n",
      "                                                                 \n",
      " bidirectional (Bidirection  (None, None, 256)         336896    \n",
      " al)                                                             \n",
      "                                                                 \n",
      " bidirectional_1 (Bidirecti  (None, 128)               164352    \n",
      " onal)                                                           \n",
      "                                                                 \n",
      " dropout (Dropout)           (None, 128)               0         \n",
      "                                                                 \n",
      " dense (Dense)               (None, 32)                4128      \n",
      "                                                                 \n",
      " dropout_1 (Dropout)         (None, 32)                0         \n",
      "                                                                 \n",
      " dense_1 (Dense)             (None, 3)                 99        \n",
      "                                                                 \n",
      "=================================================================\n",
      "Total params: 2505475 (9.56 MB)\n",
      "Trainable params: 2505475 (9.56 MB)\n",
      "Non-trainable params: 0 (0.00 Byte)\n",
      "_________________________________________________________________\n"
     ]
    }
   ],
   "source": [
    "model.summary()"
   ]
  },
  {
   "cell_type": "code",
   "execution_count": 29,
   "metadata": {
    "execution": {
     "iopub.execute_input": "2025-01-02T23:53:57.094141Z",
     "iopub.status.busy": "2025-01-02T23:53:57.093824Z",
     "iopub.status.idle": "2025-01-02T23:53:57.213840Z",
     "shell.execute_reply": "2025-01-02T23:53:57.212784Z",
     "shell.execute_reply.started": "2025-01-02T23:53:57.094094Z"
    },
    "trusted": true
   },
   "outputs": [
    {
     "name": "stderr",
     "output_type": "stream",
     "text": [
      "/home/kevin/anaconda3/envs/tf/lib/python3.9/site-packages/keras/src/engine/training.py:3103: UserWarning: You are saving your model as an HDF5 file via `model.save()`. This file format is considered legacy. We recommend using instead the native Keras format, e.g. `model.save('my_model.keras')`.\n",
      "  saving_api.save_model(\n"
     ]
    }
   ],
   "source": [
    "model.save('bilstm.h5')"
   ]
  },
  {
   "cell_type": "markdown",
   "metadata": {},
   "source": [
    "### Model Evaluation"
   ]
  },
  {
   "cell_type": "code",
   "execution_count": 30,
   "metadata": {
    "execution": {
     "iopub.execute_input": "2025-01-03T00:12:48.436430Z",
     "iopub.status.busy": "2025-01-03T00:12:48.436087Z",
     "iopub.status.idle": "2025-01-03T00:12:50.992890Z",
     "shell.execute_reply": "2025-01-03T00:12:50.992148Z",
     "shell.execute_reply.started": "2025-01-03T00:12:48.436406Z"
    },
    "trusted": true
   },
   "outputs": [
    {
     "name": "stdout",
     "output_type": "stream",
     "text": [
      "185/185 [==============================] - 4s 22ms/step - loss: 0.5216 - accuracy: 0.9071\n",
      "Test Accuracy: 90.7138%\n"
     ]
    }
   ],
   "source": [
    "test_loss, test_accuracy = model.evaluate(X_test,test_labels)\n",
    "print(f\"Test Accuracy: {test_accuracy * 100:.4f}%\")"
   ]
  },
  {
   "cell_type": "code",
   "execution_count": 31,
   "metadata": {
    "execution": {
     "iopub.execute_input": "2025-01-02T23:12:46.751975Z",
     "iopub.status.busy": "2025-01-02T23:12:46.751673Z",
     "iopub.status.idle": "2025-01-02T23:12:47.240812Z",
     "shell.execute_reply": "2025-01-02T23:12:47.239649Z",
     "shell.execute_reply.started": "2025-01-02T23:12:46.751951Z"
    },
    "id": "1PHV1ZuTaOqU",
    "trusted": true
   },
   "outputs": [
    {
     "data": {
      "image/png": "[encoded data removed]",
      "text/plain": [
       "<Figure size 640x480 with 1 Axes>"
      ]
     },
     "metadata": {},
     "output_type": "display_data"
    },
    {
     "data": {
      "image/png": "[encoded data removed]",
      "text/plain": [
       "<Figure size 640x480 with 1 Axes>"
      ]
     },
     "metadata": {},
     "output_type": "display_data"
    }
   ],
   "source": [
    "plt.plot(history.history['accuracy'], label='Training Accuracy')\n",
    "plt.plot(history.history['val_accuracy'], label='Validation Accuracy')\n",
    "plt.title(\"Bi-LSTM Accuracy \")\n",
    "plt.xlabel(\"Epochs\")\n",
    "plt.ylabel(\"Accuracy\")\n",
    "plt.legend()\n",
    "plt.show()\n",
    "\n",
    "\n",
    "plt.plot(history.history['loss'], label='Training Loss')\n",
    "plt.plot(history.history['val_loss'], label='Validation Loss')\n",
    "plt.title(\"Bi-LSTM Loss \")\n",
    "plt.ylabel(\"Loss\")\n",
    "plt.xlabel(\"Epochs\")\n",
    "plt.legend()\n",
    "plt.show()"
   ]
  },
  {
   "cell_type": "markdown",
   "metadata": {},
   "source": [
    "##### Confusion Matrix for testing data"
   ]
  },
  {
   "cell_type": "code",
   "execution_count": 32,
   "metadata": {},
   "outputs": [
    {
     "name": "stdout",
     "output_type": "stream",
     "text": [
      "185/185 [==============================] - 5s 20ms/step\n"
     ]
    },
    {
     "data": {
      "image/png": "[encoded data removed]",
      "text/plain": [
       "<Figure size 800x600 with 2 Axes>"
      ]
     },
     "metadata": {},
     "output_type": "display_data"
    }
   ],
   "source": [
    "def prepare_labels(predictions, true_labels):\n",
    "    pred_labels = predictions if len(predictions.shape) == 1 else np.argmax(predictions, axis=1)\n",
    "    true_labels = true_labels if len(true_labels.shape) == 1 else np.argmax(true_labels, axis=1)\n",
    "    return pred_labels, true_labels\n",
    "\n",
    "def plot_confusion_matrix(conf_matrix, class_names, title):\n",
    "    plt.figure(figsize=(8, 6))\n",
    "    sns.heatmap(conf_matrix, annot=True, fmt='d', cmap='coolwarm', \n",
    "                xticklabels=class_names, yticklabels=class_names)\n",
    "    plt.xlabel('Predicted')\n",
    "    plt.ylabel('True')\n",
    "    plt.title(f'Confusion Matrix for {title} Data')\n",
    "    plt.show()\n",
    "\n",
    "# Prediction and label preparation\n",
    "y_pred = model.predict(X_test)\n",
    "y_pred_labels, y_true_labels = prepare_labels(y_pred, test_labels)\n",
    "\n",
    "# Compute and plot the confusion matrix\n",
    "conf_matrix = confusion_matrix(y_true_labels, y_pred_labels)\n",
    "class_names = ['Negative', 'Positive', 'Neutral']  # Adjust class names as needed\n",
    "plot_confusion_matrix(conf_matrix, class_names, 'Test')\n"
   ]
  },
  {
   "cell_type": "markdown",
   "metadata": {},
   "source": [
    "##### Confusion Matrix for Validation Data"
   ]
  },
  {
   "cell_type": "code",
   "execution_count": 33,
   "metadata": {},
   "outputs": [
    {
     "name": "stdout",
     "output_type": "stream",
     "text": [
      "26/26 [==============================] - 1s 19ms/step\n"
     ]
    },
    {
     "data": {
      "image/png": "[encoded data removed]",
      "text/plain": [
       "<Figure size 800x600 with 2 Axes>"
      ]
     },
     "metadata": {},
     "output_type": "display_data"
    }
   ],
   "source": [
    "# Confusion matrix for validation data\n",
    "y_pred_val = model.predict(X_valid)\n",
    "y_pred_labels_val, y_true_labels_val = prepare_labels(y_pred_val, sentiment_list_val)\n",
    "\n",
    "conf_matrix_val = confusion_matrix(y_true_labels_val, y_pred_labels_val)\n",
    "plot_confusion_matrix(conf_matrix_val, class_names, 'Validation')\n"
   ]
  }
 ],
 "metadata": {
  "accelerator": "GPU",
  "colab": {
   "gpuType": "T4",
   "provenance": []
  },
  "kaggle": {
   "accelerator": "gpu",
   "dataSources": [
    {
     "datasetId": 1520310,
     "sourceId": 2510329,
     "sourceType": "datasetVersion"
    }
   ],
   "dockerImageVersionId": 30823,
   "isGpuEnabled": true,
   "isInternetEnabled": true,
   "language": "python",
   "sourceType": "notebook"
  },
  "kernelspec": {
   "display_name": "tf",
   "language": "python",
   "name": "python3"
  },
  "language_info": {
   "codemirror_mode": {
    "name": "ipython",
    "version": 3
   },
   "file_extension": ".py",
   "mimetype": "text/x-python",
   "name": "python",
   "nbconvert_exporter": "python",
   "pygments_lexer": "ipython3",
   "version": "3.9.19"
  }
 },
 "nbformat": 4,
 "nbformat_minor": 4
}
